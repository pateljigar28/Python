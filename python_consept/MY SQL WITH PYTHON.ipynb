{
 "cells": [
  {
   "cell_type": "code",
   "execution_count": 1,
   "id": "b1b1a785",
   "metadata": {},
   "outputs": [],
   "source": [
    "#pip install mysql-connector-python\n",
    "# pip install pandas"
   ]
  },
  {
   "cell_type": "markdown",
   "id": "c5562158",
   "metadata": {},
   "source": [
    "# The containing .ipynb file has python code which allow user to connect to MYSQL Work Bench.\n",
    "Along with this it has some user defined function which allows user to create, manipulate and run query \n",
    "from Jupyter notebook without intracting with MYSQL_workbench.....\n",
    "\n",
    "libraray used- mysql.connector,pandas and Error statment from mysql.connector\n",
    "\n",
    "List of functions are given below:-\n",
    "1. create_server_connection()\n",
    "2. create_database()\n",
    "3. create_database_connection()\n",
    "4. execute_query()\n",
    "5. read_query()\n",
    "At the last of file a pandas dataframe is made using our table data\n"
   ]
  },
  {
   "cell_type": "code",
   "execution_count": 1,
   "id": "458cd229",
   "metadata": {},
   "outputs": [],
   "source": [
    "import mysql.connector\n",
    "from mysql.connector import Error\n",
    "import pandas as pd"
   ]
  },
  {
   "cell_type": "code",
   "execution_count": 2,
   "id": "b194e14b",
   "metadata": {},
   "outputs": [
    {
     "name": "stdout",
     "output_type": "stream",
     "text": [
      "MYSQL Databases connection successful\n"
     ]
    }
   ],
   "source": [
    "def create_server_connection(host_name,user_name,user_password):\n",
    "    connection = None\n",
    "    try:\n",
    "        connection = mysql.connector.connect(\n",
    "        host = host_name,\n",
    "        user = user_name,\n",
    "        password = user_password\n",
    "        )\n",
    "        print(\"MYSQL Databases connection successful\")\n",
    "    except Error as err:\n",
    "        print(f\"Error :'{err}'\")\n",
    "    return connection\n",
    "\n",
    "# put our MYSQL Terminal password\n",
    "pw=\"FC@1234\"\n",
    "\n",
    "# Database name\n",
    "db=\"Sales_Department\"\n",
    "\n",
    "connection= create_server_connection( \"localhost\",'root',pw)"
   ]
  },
  {
   "cell_type": "code",
   "execution_count": 3,
   "id": "5b85a674",
   "metadata": {},
   "outputs": [
    {
     "name": "stdout",
     "output_type": "stream",
     "text": [
      "Databases Created Successfully\n"
     ]
    }
   ],
   "source": [
    "# create Sales_Department\n",
    "def create_database(connection,query):\n",
    "    cursor=connection.cursor()\n",
    "    try:\n",
    "        cursor.execute(query)\n",
    "        print(\"Databases Created Successfully\")\n",
    "    except Error as err:\n",
    "        print(f\"Error :'{err}'\") \n",
    "create_database_query=\"create database Sales_Department\"\n",
    "create_database(connection,create_database_query)"
   ]
  },
  {
   "cell_type": "code",
   "execution_count": 4,
   "id": "aa8dd341",
   "metadata": {},
   "outputs": [],
   "source": [
    "# connect to database\n",
    "def create_database_connection(host_name,user_name,user_password,db_name):\n",
    "    connection = None\n",
    "    try:\n",
    "        connection = mysql.connector.connect(\n",
    "        host = host_name,\n",
    "        user = user_name,\n",
    "        password = user_password,\n",
    "        database = db_name\n",
    "        )\n",
    "        print(\"Databases connection successful\")\n",
    "    except Error as err:\n",
    "        print(f\"Error :'{err}'\")\n",
    "    return connection"
   ]
  },
  {
   "cell_type": "code",
   "execution_count": 5,
   "id": "5f17fb92",
   "metadata": {},
   "outputs": [],
   "source": [
    "# Excute SQL Queries\n",
    "def execute_query(connection,query):\n",
    "    cursor=connection.cursor()\n",
    "    try:\n",
    "        cursor.execute(query)\n",
    "        connection.commit()\n",
    "        print(\"Query was successfull\")\n",
    "    except Error as err:\n",
    "        print(f\"Error :'{err}'\") "
   ]
  },
  {
   "cell_type": "code",
   "execution_count": 6,
   "id": "bc62cbff",
   "metadata": {},
   "outputs": [
    {
     "name": "stdout",
     "output_type": "stream",
     "text": [
      "Databases connection successful\n",
      "Query was successfull\n"
     ]
    }
   ],
   "source": [
    "create_order_table=\"\"\"\n",
    "CREATE TABLE AGENTS(\n",
    "AGENT_CODE VARCHAR(6) NOT NULL PRIMARY KEY,\n",
    "AGENT_NAME VARCHAR(40),\n",
    "WORKING_AREA VARCHAR(35), \n",
    "COMMISSION INT, \n",
    "PHONE_NO VARCHAR(15), \n",
    "COUNTRY VARCHAR(25) );\n",
    "\"\"\"\n",
    "\n",
    "# connect to the database\n",
    "connection = create_database_connection(\"localhost\",\"root\",pw,db)\n",
    "execute_query(connection,create_order_table)"
   ]
  },
  {
   "cell_type": "code",
   "execution_count": 7,
   "id": "620fa63f",
   "metadata": {},
   "outputs": [
    {
     "name": "stdout",
     "output_type": "stream",
     "text": [
      "Databases connection successful\n",
      "Query was successfull\n"
     ]
    }
   ],
   "source": [
    "# Insert Data\n",
    "data_agents=\"\"\"\n",
    "INSERT INTO AGENTS VALUES\n",
    "('A007', 'Ramasundar', 'Bangalore', '0.15', '077-25814763', ''),\n",
    "('A003', 'Alex ', 'London', '0.13', '075-12458969', ''),\n",
    "('A008', 'Alford', 'New York', '0.12', '044-25874365', ''),\n",
    "('A011', 'Ravi Kumar', 'Bangalore', '0.15', '077-45625874', ''),\n",
    "('A010', 'Santakumar', 'Chennai', '0.14', '007-22388644', ''),\n",
    "('A012', 'Lucida', 'San Jose', '0.12', '044-52981425', ''),\n",
    "('A005', 'Anderson', 'Brisban', '0.13', '045-21447739', ''),\n",
    "('A001', 'Subbarao', 'Bangalore', '0.14', '077-12346674', ''),\n",
    "('A002', 'Mukesh', 'Mumbai', '0.11', '029-12358964', ''),\n",
    "('A006', 'McDen', 'London', '0.15', '078-22255588', ''),\n",
    "('A004', 'Ivan', 'Torento', '0.15', '008-22544166', ''),\n",
    "('A009', 'Benjamin', 'Hampshair', '0.11', '008-22536178', '');\n",
    "\"\"\"\n",
    "connection= create_database_connection(\"localhost\",\"root\",pw,db)\n",
    "execute_query(connection,data_agents)"
   ]
  },
  {
   "cell_type": "code",
   "execution_count": 8,
   "id": "24fad98c",
   "metadata": {},
   "outputs": [],
   "source": [
    "def read_query(connection,query):\n",
    "    cursor=connection.cursor()\n",
    "    result= None\n",
    "    try:\n",
    "        cursor.execute(query)\n",
    "        result= cursor.fetchall()\n",
    "        return result\n",
    "    except Error as err:\n",
    "        print(f\"Error :'{err}'\") "
   ]
  },
  {
   "cell_type": "code",
   "execution_count": 9,
   "id": "fd50e25e",
   "metadata": {},
   "outputs": [
    {
     "name": "stdout",
     "output_type": "stream",
     "text": [
      "Databases connection successful\n",
      "('A001', 'Subbarao', 'Bangalore', 0, '077-12346674', '')\n",
      "('A002', 'Mukesh', 'Mumbai', 0, '029-12358964', '')\n",
      "('A003', 'Alex ', 'London', 0, '075-12458969', '')\n",
      "('A004', 'Ivan', 'Torento', 0, '008-22544166', '')\n",
      "('A005', 'Anderson', 'Brisban', 0, '045-21447739', '')\n",
      "('A006', 'McDen', 'London', 0, '078-22255588', '')\n",
      "('A007', 'Ramasundar', 'Bangalore', 0, '077-25814763', '')\n",
      "('A008', 'Alford', 'New York', 0, '044-25874365', '')\n",
      "('A009', 'Benjamin', 'Hampshair', 0, '008-22536178', '')\n",
      "('A010', 'Santakumar', 'Chennai', 0, '007-22388644', '')\n",
      "('A011', 'Ravi Kumar', 'Bangalore', 0, '077-45625874', '')\n",
      "('A012', 'Lucida', 'San Jose', 0, '044-52981425', '')\n"
     ]
    }
   ],
   "source": [
    "# using the select statement\n",
    "q1=\"\"\"\n",
    "select * from agents;\n",
    "\"\"\"\n",
    "\n",
    "connection = create_database_connection(\"localhost\",\"root\",pw,db)\n",
    "results=read_query(connection,q1)\n",
    "\n",
    "for data in results:\n",
    "    print(data)"
   ]
  },
  {
   "cell_type": "code",
   "execution_count": 10,
   "id": "aa8a0b18",
   "metadata": {},
   "outputs": [
    {
     "name": "stdout",
     "output_type": "stream",
     "text": [
      "Databases connection successful\n",
      "('Subbarao', 'Bangalore')\n",
      "('Mukesh', 'Mumbai')\n",
      "('Alex ', 'London')\n",
      "('Ivan', 'Torento')\n",
      "('Anderson', 'Brisban')\n",
      "('McDen', 'London')\n",
      "('Ramasundar', 'Bangalore')\n",
      "('Alford', 'New York')\n",
      "('Benjamin', 'Hampshair')\n",
      "('Santakumar', 'Chennai')\n",
      "('Ravi Kumar', 'Bangalore')\n",
      "('Lucida', 'San Jose')\n"
     ]
    }
   ],
   "source": [
    "# using the select statement\n",
    "q2=\"\"\"\n",
    "select agent_name,WORKING_AREA from agents;\n",
    "\"\"\"\n",
    "\n",
    "connection = create_database_connection(\"localhost\",\"root\",pw,db)\n",
    "result=read_query(connection,q2)\n",
    "\n",
    "for data in result:\n",
    "    print(data)"
   ]
  },
  {
   "cell_type": "code",
   "execution_count": 11,
   "id": "e7051250",
   "metadata": {},
   "outputs": [
    {
     "name": "stdout",
     "output_type": "stream",
     "text": [
      "Databases connection successful\n",
      "('Bangalore',)\n",
      "('Mumbai',)\n",
      "('London',)\n",
      "('Torento',)\n",
      "('Brisban',)\n",
      "('New York',)\n",
      "('Hampshair',)\n",
      "('Chennai',)\n",
      "('San Jose',)\n"
     ]
    }
   ],
   "source": [
    "# using the select statement\n",
    "q3=\"\"\"\n",
    "select distinct WORKING_AREA from agents;\n",
    "\"\"\"\n",
    "\n",
    "connection = create_database_connection(\"localhost\",\"root\",pw,db)\n",
    "result=read_query(connection,q3)\n",
    "\n",
    "for data in result:\n",
    "    print(data)"
   ]
  },
  {
   "cell_type": "code",
   "execution_count": 12,
   "id": "b753ec62",
   "metadata": {},
   "outputs": [
    {
     "name": "stdout",
     "output_type": "stream",
     "text": [
      "Databases connection successful\n",
      "('A010', 'Santakumar', 'Chennai', 0, '007-22388644', '')\n"
     ]
    }
   ],
   "source": [
    "# using the select statement\n",
    "q4=\"\"\"\n",
    "select * from agents\n",
    "where WORKING_AREA=\"Chennai\";\n",
    "\"\"\"\n",
    "\n",
    "connection = create_database_connection(\"localhost\",\"root\",pw,db)\n",
    "result=read_query(connection,q4)\n",
    "\n",
    "for data in result:\n",
    "    print(data)"
   ]
  },
  {
   "cell_type": "code",
   "execution_count": 13,
   "id": "6af2961c",
   "metadata": {},
   "outputs": [
    {
     "name": "stdout",
     "output_type": "stream",
     "text": [
      "Databases connection successful\n",
      "('A003', 'Alex ', 'London', 0, '075-12458969', '')\n",
      "('A008', 'Alford', 'New York', 0, '044-25874365', '')\n",
      "('A005', 'Anderson', 'Brisban', 0, '045-21447739', '')\n",
      "('A009', 'Benjamin', 'Hampshair', 0, '008-22536178', '')\n",
      "('A004', 'Ivan', 'Torento', 0, '008-22544166', '')\n",
      "('A012', 'Lucida', 'San Jose', 0, '044-52981425', '')\n",
      "('A006', 'McDen', 'London', 0, '078-22255588', '')\n",
      "('A002', 'Mukesh', 'Mumbai', 0, '029-12358964', '')\n",
      "('A007', 'Ramasundar', 'Bangalore', 0, '077-25814763', '')\n",
      "('A011', 'Ravi Kumar', 'Bangalore', 0, '077-45625874', '')\n",
      "('A010', 'Santakumar', 'Chennai', 0, '007-22388644', '')\n",
      "('A001', 'Subbarao', 'Bangalore', 0, '077-12346674', '')\n"
     ]
    }
   ],
   "source": [
    "# using the select statement\n",
    "q7=\"\"\"\n",
    "select * from agents\n",
    "order by agent_name;\n",
    "\"\"\"\n",
    "connection = create_database_connection(\"localhost\",\"root\",pw,db)\n",
    "result=read_query(connection,q7)\n",
    "for data in result:\n",
    "    print(data)"
   ]
  },
  {
   "cell_type": "code",
   "execution_count": 14,
   "id": "ff59fae7",
   "metadata": {},
   "outputs": [
    {
     "data": {
      "text/html": [
       "<div>\n",
       "<style scoped>\n",
       "    .dataframe tbody tr th:only-of-type {\n",
       "        vertical-align: middle;\n",
       "    }\n",
       "\n",
       "    .dataframe tbody tr th {\n",
       "        vertical-align: top;\n",
       "    }\n",
       "\n",
       "    .dataframe thead th {\n",
       "        text-align: right;\n",
       "    }\n",
       "</style>\n",
       "<table border=\"1\" class=\"dataframe\">\n",
       "  <thead>\n",
       "    <tr style=\"text-align: right;\">\n",
       "      <th></th>\n",
       "      <th>AGENT_CODE</th>\n",
       "      <th>AGENT_NAME</th>\n",
       "      <th>WORKING_AREA</th>\n",
       "      <th>COMMISSION</th>\n",
       "      <th>PHONE_NO</th>\n",
       "      <th>COUNTRY</th>\n",
       "    </tr>\n",
       "  </thead>\n",
       "  <tbody>\n",
       "    <tr>\n",
       "      <th>0</th>\n",
       "      <td>A001</td>\n",
       "      <td>Subbarao</td>\n",
       "      <td>Bangalore</td>\n",
       "      <td>0</td>\n",
       "      <td>077-12346674</td>\n",
       "      <td></td>\n",
       "    </tr>\n",
       "    <tr>\n",
       "      <th>1</th>\n",
       "      <td>A002</td>\n",
       "      <td>Mukesh</td>\n",
       "      <td>Mumbai</td>\n",
       "      <td>0</td>\n",
       "      <td>029-12358964</td>\n",
       "      <td></td>\n",
       "    </tr>\n",
       "    <tr>\n",
       "      <th>2</th>\n",
       "      <td>A003</td>\n",
       "      <td>Alex</td>\n",
       "      <td>London</td>\n",
       "      <td>0</td>\n",
       "      <td>075-12458969</td>\n",
       "      <td></td>\n",
       "    </tr>\n",
       "    <tr>\n",
       "      <th>3</th>\n",
       "      <td>A004</td>\n",
       "      <td>Ivan</td>\n",
       "      <td>Torento</td>\n",
       "      <td>0</td>\n",
       "      <td>008-22544166</td>\n",
       "      <td></td>\n",
       "    </tr>\n",
       "    <tr>\n",
       "      <th>4</th>\n",
       "      <td>A005</td>\n",
       "      <td>Anderson</td>\n",
       "      <td>Brisban</td>\n",
       "      <td>0</td>\n",
       "      <td>045-21447739</td>\n",
       "      <td></td>\n",
       "    </tr>\n",
       "    <tr>\n",
       "      <th>5</th>\n",
       "      <td>A006</td>\n",
       "      <td>McDen</td>\n",
       "      <td>London</td>\n",
       "      <td>0</td>\n",
       "      <td>078-22255588</td>\n",
       "      <td></td>\n",
       "    </tr>\n",
       "    <tr>\n",
       "      <th>6</th>\n",
       "      <td>A007</td>\n",
       "      <td>Ramasundar</td>\n",
       "      <td>Bangalore</td>\n",
       "      <td>0</td>\n",
       "      <td>077-25814763</td>\n",
       "      <td></td>\n",
       "    </tr>\n",
       "    <tr>\n",
       "      <th>7</th>\n",
       "      <td>A008</td>\n",
       "      <td>Alford</td>\n",
       "      <td>New York</td>\n",
       "      <td>0</td>\n",
       "      <td>044-25874365</td>\n",
       "      <td></td>\n",
       "    </tr>\n",
       "    <tr>\n",
       "      <th>8</th>\n",
       "      <td>A009</td>\n",
       "      <td>Benjamin</td>\n",
       "      <td>Hampshair</td>\n",
       "      <td>0</td>\n",
       "      <td>008-22536178</td>\n",
       "      <td></td>\n",
       "    </tr>\n",
       "    <tr>\n",
       "      <th>9</th>\n",
       "      <td>A010</td>\n",
       "      <td>Santakumar</td>\n",
       "      <td>Chennai</td>\n",
       "      <td>0</td>\n",
       "      <td>007-22388644</td>\n",
       "      <td></td>\n",
       "    </tr>\n",
       "    <tr>\n",
       "      <th>10</th>\n",
       "      <td>A011</td>\n",
       "      <td>Ravi Kumar</td>\n",
       "      <td>Bangalore</td>\n",
       "      <td>0</td>\n",
       "      <td>077-45625874</td>\n",
       "      <td></td>\n",
       "    </tr>\n",
       "    <tr>\n",
       "      <th>11</th>\n",
       "      <td>A012</td>\n",
       "      <td>Lucida</td>\n",
       "      <td>San Jose</td>\n",
       "      <td>0</td>\n",
       "      <td>044-52981425</td>\n",
       "      <td></td>\n",
       "    </tr>\n",
       "  </tbody>\n",
       "</table>\n",
       "</div>"
      ],
      "text/plain": [
       "   AGENT_CODE  AGENT_NAME WORKING_AREA  COMMISSION      PHONE_NO COUNTRY\n",
       "0        A001    Subbarao    Bangalore           0  077-12346674        \n",
       "1        A002      Mukesh       Mumbai           0  029-12358964        \n",
       "2        A003       Alex        London           0  075-12458969        \n",
       "3        A004        Ivan      Torento           0  008-22544166        \n",
       "4        A005    Anderson      Brisban           0  045-21447739        \n",
       "5        A006       McDen       London           0  078-22255588        \n",
       "6        A007  Ramasundar    Bangalore           0  077-25814763        \n",
       "7        A008      Alford     New York           0  044-25874365        \n",
       "8        A009    Benjamin    Hampshair           0  008-22536178        \n",
       "9        A010  Santakumar      Chennai           0  007-22388644        \n",
       "10       A011  Ravi Kumar    Bangalore           0  077-45625874        \n",
       "11       A012      Lucida     San Jose           0  044-52981425        "
      ]
     },
     "metadata": {},
     "output_type": "display_data"
    }
   ],
   "source": [
    "Agents=[]\n",
    "for result in results:\n",
    "    result=list(result)\n",
    "    Agents.append(result)\n",
    "    \n",
    "columns= [\"AGENT_CODE\",\"AGENT_NAME\",\"WORKING_AREA\",\"COMMISSION\",\"PHONE_NO\",\"COUNTRY\"]\n",
    "df=pd.DataFrame(Agents,columns=columns)\n",
    "display(df)"
   ]
  },
  {
   "cell_type": "code",
   "execution_count": 15,
   "id": "8bc11bb6",
   "metadata": {},
   "outputs": [
    {
     "name": "stdout",
     "output_type": "stream",
     "text": [
      "Databases connection successful\n",
      "Query was successfull\n"
     ]
    }
   ],
   "source": [
    "# Update command\n",
    "update=\"\"\"\n",
    "update agents\n",
    "set agent_name = \"Gaurav Chatterjee\"\n",
    "where AGENT_CODE = \"A001\"\n",
    "\"\"\"\n",
    "connection = create_database_connection(\"localhost\",\"root\",pw,db)\n",
    "execute_query(connection,update)"
   ]
  },
  {
   "cell_type": "code",
   "execution_count": 16,
   "id": "994c812c",
   "metadata": {},
   "outputs": [
    {
     "name": "stdout",
     "output_type": "stream",
     "text": [
      "Databases connection successful\n",
      "Query was successfull\n"
     ]
    }
   ],
   "source": [
    "# Delete command\n",
    "delete_order=\"\"\"\n",
    "delete from agents\n",
    "where AGENT_CODE = \"A012\"\n",
    "\"\"\"\n",
    "connection = create_database_connection(\"localhost\",\"root\",pw,db)\n",
    "execute_query(connection,delete_order)"
   ]
  },
  {
   "cell_type": "code",
   "execution_count": 17,
   "id": "074d3455",
   "metadata": {},
   "outputs": [],
   "source": [
    "cursor = connection.cursor()"
   ]
  },
  {
   "cell_type": "code",
   "execution_count": 18,
   "id": "aa280ea0",
   "metadata": {},
   "outputs": [
    {
     "name": "stdout",
     "output_type": "stream",
     "text": [
      "('car',)\n",
      "('employee',)\n",
      "('information_schema',)\n",
      "('mysql',)\n",
      "('northwind',)\n",
      "('performance_schema',)\n",
      "('sales_department',)\n",
      "('sampledb',)\n",
      "('sys',)\n",
      "('training',)\n"
     ]
    }
   ],
   "source": [
    "cursor.execute('SHOW DATABASES')\n",
    "for x in cursor:\n",
    "    print(x)"
   ]
  },
  {
   "cell_type": "markdown",
   "id": "d33a40fe",
   "metadata": {},
   "source": [
    "# Thankyou\n",
    "Future Connect Training & Recruitment Ltd."
   ]
  }
 ],
 "metadata": {
  "kernelspec": {
   "display_name": "Python 3 (ipykernel)",
   "language": "python",
   "name": "python3"
  },
  "language_info": {
   "codemirror_mode": {
    "name": "ipython",
    "version": 3
   },
   "file_extension": ".py",
   "mimetype": "text/x-python",
   "name": "python",
   "nbconvert_exporter": "python",
   "pygments_lexer": "ipython3",
   "version": "3.11.5"
  }
 },
 "nbformat": 4,
 "nbformat_minor": 5
}
